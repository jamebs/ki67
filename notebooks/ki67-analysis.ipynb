{
 "cells": [
  {
   "cell_type": "code",
   "execution_count": null,
   "metadata": {},
   "outputs": [],
   "source": [
    "import json\n",
    "import numpy as np\n",
    "import pandas as pd\n",
    "import seaborn as sns\n",
    "import matplotlib.pyplot as plt\n",
    "from tqdm import tqdm\n",
    "from scipy import stats\n",
    "from sklearn import metrics\n",
    "from IPython.display import display\n",
    "from ki67.interfaces.cells import Cells"
   ]
  },
  {
   "cell_type": "code",
   "execution_count": null,
   "metadata": {},
   "outputs": [],
   "source": [
    "sns.set_theme(style='whitegrid')"
   ]
  },
  {
   "cell_type": "markdown",
   "metadata": {},
   "source": [
    "### Metrics calculation"
   ]
  },
  {
   "cell_type": "code",
   "execution_count": null,
   "metadata": {},
   "outputs": [],
   "source": [
    "INVALID = 0.2"
   ]
  },
  {
   "cell_type": "code",
   "execution_count": null,
   "metadata": {},
   "outputs": [],
   "source": [
    "with open('./data/experiments/config.json') as fp:\n",
    "    config = json.load(fp)\n",
    "\n",
    "slides = {\n",
    "    'amy': config['shards']['amy'] + config['testing'],\n",
    "    'ben': config['shards']['ben'] + config['testing'],\n",
    "    'charlie': config['shards']['charlie'] + config['testing'],\n",
    "    'ensemble': config['testing'],\n",
    "    'identity': config['shards']['amy'] + config['shards']['ben'] + config['shards']['charlie'] + config['testing'],\n",
    "    'pathonet': config['testing'],\n",
    "}"
   ]
  },
  {
   "cell_type": "code",
   "execution_count": null,
   "metadata": {},
   "outputs": [],
   "source": [
    "def process_single(slide: str, model: str, size: int, biased: bool, gt_ki: float) -> pd.Series:\n",
    "    if model == 'identity':\n",
    "        cells = Cells.parse(slide, np.load(f'data/results/{slide}/cells-identity.npz'))\n",
    "    elif model == 'pathonet':\n",
    "        pathonet = pd.read_csv(f'data/experiments/pathonet.csv')\n",
    "    else:\n",
    "        prefix = 'biased-cells' if biased else 'cells'\n",
    "        filename = f'{prefix}-f{size}-{model}.npz'\n",
    "        cells = Cells.parse(slide, np.load(f'data/results/{slide}/{filename}'))\n",
    "\n",
    "    if model != 'pathonet':\n",
    "        positive_area = np.sum(cells.data[cells.CellType.POSITIVE].mask)\n",
    "        cumulative_area = np.sum(cells.data[cells.CellType.ALL].mask)\n",
    "        ki = positive_area / cumulative_area if cumulative_area > 0 else np.NaN\n",
    "    else:\n",
    "        ki = pathonet[pathonet.slide == slide].iloc[0]['ki']\n",
    "\n",
    "    return pd.Series(dict(\n",
    "        slide=slide,\n",
    "        model=model,\n",
    "        fragment=size,\n",
    "        biased=biased,\n",
    "        gt=gt_ki,\n",
    "        ki=ki,\n",
    "        error=gt_ki - ki,\n",
    "        delta=np.abs(gt_ki - ki),\n",
    "    ))\n",
    "\n",
    "def process_slide(slide: str, model: str) -> pd.DataFrame:\n",
    "    markers = pd.read_parquet(f'data/results/{slide}/markers.gz.parquet')\n",
    "    gt_ki = len(markers[markers.type == 1]) / len(markers)\n",
    "\n",
    "    return (\n",
    "        pd.DataFrame([\n",
    "            process_single(slide, model, size, biased, gt_ki)\n",
    "            for size in [48, 96, 192]\n",
    "            for biased in [True, False]\n",
    "        ]) if model != 'identity' and model != 'pathonet'\n",
    "        else pd.DataFrame([process_single(slide, model, np.nan, np.nan, gt_ki)])\n",
    "    )\n",
    "\n",
    "def calculate_metrics(df: pd.DataFrame, confidence_level = 0.95) -> pd.Series:\n",
    "    degrees_freedom = len(df) - 1\n",
    "    sample_mean = np.mean(df.delta)\n",
    "    sample_standard_error = stats.sem(df.delta)\n",
    "    confidence_interval = stats.t.interval(confidence_level, degrees_freedom, sample_mean, sample_standard_error)\n",
    "\n",
    "    return pd.Series(dict(\n",
    "        mae=df.delta.mean(),\n",
    "        ci=f'{max(confidence_interval[0], 0.0):.3f} to {confidence_interval[1]:.3f}',\n",
    "        rmse=metrics.mean_squared_error(df['gt'], df['ki'], squared=False),\n",
    "        invalid=len(df[(df.delta > INVALID) | (df.delta.isna())])\n",
    "    ))\n"
   ]
  },
  {
   "cell_type": "code",
   "execution_count": null,
   "metadata": {},
   "outputs": [],
   "source": [
    "data = pd.concat([\n",
    "    process_slide(slide, model)\n",
    "    for slide, model in tqdm([\n",
    "        (slide, model)\n",
    "        for model in slides.keys()\n",
    "        for slide in slides[model]\n",
    "    ])],\n",
    "    ignore_index=True,\n",
    ")\n",
    "data.to_csv('data/experiments/ki67.csv', index=False)"
   ]
  },
  {
   "cell_type": "code",
   "execution_count": null,
   "metadata": {},
   "outputs": [],
   "source": [
    "data = pd.read_csv('data/experiments/ki67.csv')\n",
    "data"
   ]
  },
  {
   "cell_type": "code",
   "execution_count": null,
   "metadata": {},
   "outputs": [],
   "source": [
    "identity = data[data.model == 'identity']\n",
    "pathonet = data[data.model == 'pathonet']\n",
    "single = data[data.model.isin(['amy', 'ben', 'charlie'])].groupby(['slide', 'fragment', 'biased']).mean().reset_index()\n",
    "ensemble = data[data.model == 'ensemble']"
   ]
  },
  {
   "cell_type": "markdown",
   "metadata": {},
   "source": [
    "### Results"
   ]
  },
  {
   "cell_type": "code",
   "execution_count": null,
   "metadata": {},
   "outputs": [],
   "source": [
    "display(\n",
    "    pd.concat([\n",
    "        calculate_metrics(identity),\n",
    "        calculate_metrics(identity[identity.slide.isin(config['testing'])]),\n",
    "    ], axis=1, keys=['all', 'testing'])\n",
    ")"
   ]
  },
  {
   "cell_type": "code",
   "execution_count": null,
   "metadata": {},
   "outputs": [],
   "source": [
    "display(\n",
    "    pd.DataFrame([\n",
    "        calculate_metrics(pathonet[pathonet.slide.isin(config['testing'])]),\n",
    "    ])\n",
    ")"
   ]
  },
  {
   "cell_type": "code",
   "execution_count": null,
   "metadata": {},
   "outputs": [],
   "source": [
    "pd.concat([\n",
    "    single.groupby('fragment').apply(\n",
    "        lambda df: df.groupby('biased').apply(\n",
    "            lambda dff: calculate_metrics(dff)\n",
    "        ).T\n",
    "    ),\n",
    "    single[single.slide.isin(config['testing'])].groupby('fragment').apply(\n",
    "        lambda df: df.groupby('biased').apply(\n",
    "            lambda dff: calculate_metrics(dff)\n",
    "        ).T\n",
    "    ),\n",
    "], axis=1, keys=['all', 'testing'])"
   ]
  },
  {
   "cell_type": "code",
   "execution_count": null,
   "metadata": {},
   "outputs": [],
   "source": [
    "ensemble.groupby('fragment').apply(\n",
    "    lambda df: df.groupby('biased').apply(\n",
    "        lambda dff: calculate_metrics(dff)\n",
    "    ).T\n",
    ")"
   ]
  },
  {
   "cell_type": "markdown",
   "metadata": {},
   "source": [
    "### Plots"
   ]
  },
  {
   "cell_type": "code",
   "execution_count": null,
   "metadata": {},
   "outputs": [],
   "source": [
    "df = pd.concat([\n",
    "    single[single.slide.isin(config['testing'])].assign(Model=lambda dff: dff.apply(\n",
    "        lambda row: 'Single' + (' Biased' if row['biased'] else ''),\n",
    "        axis=1,\n",
    "    )),\n",
    "    ensemble.assign(Model=lambda dff: dff.apply(\n",
    "        lambda row: 'Ensemble' + (' Biased' if row['biased'] else ''),\n",
    "        axis=1,\n",
    "    )),\n",
    "])\n",
    "\n",
    "fig, ax = plt.subplots(figsize=(6, 4))\n",
    "g = sns.boxplot(\n",
    "    x='fragment',\n",
    "    y='delta',\n",
    "    hue='Model',\n",
    "    hue_order=['Single', 'Ensemble', 'Single Biased', 'Ensemble Biased'],\n",
    "    data=df,\n",
    "    showfliers=False,\n",
    "    ax=ax,\n",
    ")\n",
    "g.set_xlabel('Window size')\n",
    "g.set_ylabel('MAE')\n",
    "g.set_xticklabels(['48 px', '96 px', '192 px'])\n",
    "None"
   ]
  },
  {
   "cell_type": "code",
   "execution_count": null,
   "metadata": {},
   "outputs": [],
   "source": [
    "df = pd.concat([\n",
    "    single[single.slide.isin(config['testing'])].assign(Model='Single', Biased=lambda dff: dff.biased.astype(bool)),\n",
    "    ensemble.assign(Model='Ensemble', Biased=lambda dff: dff.biased.astype(bool)),\n",
    "])\n",
    "\n",
    "fig, ax = plt.subplots(figsize=(5, 4))\n",
    "g = sns.violinplot(\n",
    "    x='Model',\n",
    "    y='delta',\n",
    "    hue='Biased',\n",
    "    data=df,\n",
    "    split=False,\n",
    "    cut=0,\n",
    "    scale_hue=True,\n",
    "    ax=ax,\n",
    ")\n",
    "g.set_ylabel('MAE')\n",
    "None"
   ]
  },
  {
   "cell_type": "code",
   "execution_count": null,
   "metadata": {},
   "outputs": [],
   "source": [
    "df = pd.concat([\n",
    "    single[(single.fragment == 96) & (single.biased == True)]\n",
    "        .assign(Model='Single Biased (96px window)'),\n",
    "    ensemble[(ensemble.fragment == 96) & (ensemble.biased == False)]\n",
    "        .assign(Model='Ensemble Unbiased (96px window)'),\n",
    "])\n",
    "\n",
    "g = sns.lmplot(\n",
    "    data=df,\n",
    "    x='gt',\n",
    "    y='ki',\n",
    "    hue='Model',\n",
    "    col='Model',\n",
    "    height=4,\n",
    "    truncate=False,\n",
    ")\n",
    "g.set_axis_labels('Ground Truth Ki67 PI', 'Estimated Ki67 PI')\n",
    "\n",
    "for ax in g.axes[0]:\n",
    "    ax.plot([0, 1], [0, 1], 'g-')"
   ]
  },
  {
   "cell_type": "code",
   "execution_count": null,
   "metadata": {},
   "outputs": [],
   "source": [
    "df = pd.concat([\n",
    "    identity.assign(Model='Base'),\n",
    "    pathonet.assign(Model='PathoNet'),\n",
    "    ensemble[(ensemble.fragment == 96) & (ensemble.biased == False)].assign(Model='Our'),\n",
    "])\n",
    "\n",
    "fig, ax = plt.subplots(figsize=(2.5, 4))\n",
    "g = sns.boxplot(\n",
    "    x='Model',\n",
    "    y='delta',\n",
    "    data=df,\n",
    "    showfliers=False,\n",
    "    ax=ax,\n",
    ")\n",
    "g.set_xlabel('Solution')\n",
    "g.set_ylabel('MAE')\n",
    "None"
   ]
  }
 ],
 "metadata": {
  "interpreter": {
   "hash": "949777d72b0d2535278d3dc13498b2535136f6dfe0678499012e853ee9abcab1"
  },
  "kernelspec": {
   "display_name": "Python 3.7.12 64-bit",
   "language": "python",
   "name": "python3"
  },
  "language_info": {
   "codemirror_mode": {
    "name": "ipython",
    "version": 3
   },
   "file_extension": ".py",
   "mimetype": "text/x-python",
   "name": "python",
   "nbconvert_exporter": "python",
   "pygments_lexer": "ipython3",
   "version": "3.7.12"
  },
  "orig_nbformat": 4
 },
 "nbformat": 4,
 "nbformat_minor": 2
}
