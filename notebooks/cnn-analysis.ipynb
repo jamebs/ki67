{
 "cells": [
  {
   "cell_type": "code",
   "execution_count": null,
   "metadata": {},
   "outputs": [],
   "source": [
    "import json\n",
    "import numpy as np\n",
    "import pandas as pd\n",
    "import seaborn as sns\n",
    "import matplotlib.pyplot as plt\n",
    "from tqdm import tqdm\n",
    "from IPython.display import display\n",
    "from sklearn.metrics import (\n",
    "    accuracy_score, precision_score, recall_score, f1_score,\n",
    "    roc_curve, auc,\n",
    ")"
   ]
  },
  {
   "cell_type": "code",
   "execution_count": null,
   "metadata": {},
   "outputs": [],
   "source": [
    "sns.set_theme(style='whitegrid')"
   ]
  },
  {
   "cell_type": "markdown",
   "metadata": {},
   "source": [
    "### Metrics calculation"
   ]
  },
  {
   "cell_type": "code",
   "execution_count": null,
   "metadata": {},
   "outputs": [],
   "source": [
    "with open('./data/experiments/config.json') as fp:\n",
    "    config = json.load(fp)\n",
    "\n",
    "slides = {\n",
    "    'amy': config['shards']['amy'] + config['testing'],\n",
    "    'ben': config['shards']['ben'] + config['testing'],\n",
    "    'charlie': config['shards']['charlie'] + config['testing'],\n",
    "    'ensemble': config['testing'],\n",
    "}"
   ]
  },
  {
   "cell_type": "code",
   "execution_count": null,
   "metadata": {},
   "outputs": [],
   "source": [
    "def process_single(slide: str, model: str, size: int) -> pd.Series:\n",
    "    data = pd.read_parquet(f'data/results/{slide}/predictions-f{size}-s16-m0-{model}.gz.parquet')\n",
    "    y_true = data.labels.astype(float).round().astype(bool)\n",
    "    y_pred = data.prediction.astype(float).round().astype(bool)\n",
    "    return pd.Series(dict(\n",
    "        slide=slide,\n",
    "        fragment=size,\n",
    "        model=model,\n",
    "        accuracy=accuracy_score(y_true, y_pred) * 100,\n",
    "        recall=recall_score(y_true, y_pred, zero_division=0) * 100,\n",
    "        precision=precision_score(y_true, y_pred, zero_division=0) * 100,\n",
    "        f1=f1_score(y_true, y_pred, zero_division=0) * 100,\n",
    "    ))\n",
    "\n",
    "def process_slide(slide: str, model: str) -> pd.DataFrame:\n",
    "    return pd.DataFrame([\n",
    "        process_single(slide, model, size)\n",
    "        for size in [48, 96, 192]\n",
    "    ])"
   ]
  },
  {
   "cell_type": "code",
   "execution_count": null,
   "metadata": {},
   "outputs": [],
   "source": [
    "data = pd.concat([\n",
    "    process_slide(slide, model)\n",
    "    for slide, model in tqdm([\n",
    "        (slide, model)\n",
    "        for model in slides.keys()\n",
    "        for slide in slides[model]\n",
    "    ])],\n",
    "    ignore_index=True,\n",
    ")\n",
    "data.to_csv('data/experiments/cnn.csv', index=False)"
   ]
  },
  {
   "cell_type": "code",
   "execution_count": null,
   "metadata": {},
   "outputs": [],
   "source": [
    "data = pd.read_csv('data/experiments/cnn.csv')\n",
    "data"
   ]
  },
  {
   "cell_type": "markdown",
   "metadata": {},
   "source": [
    "### Results"
   ]
  },
  {
   "cell_type": "code",
   "execution_count": null,
   "metadata": {},
   "outputs": [],
   "source": [
    "display(\n",
    "    data[~data.slide.isin(slides['ensemble'])]\n",
    "    .groupby('fragment')\n",
    "    .mean()\n",
    ")"
   ]
  },
  {
   "cell_type": "code",
   "execution_count": null,
   "metadata": {},
   "outputs": [],
   "source": [
    "df_single = (\n",
    "    data[data.slide.isin(slides['ensemble']) & (data.model != 'ensemble')]\n",
    "    .groupby(['slide', 'fragment'])\n",
    "    .mean()\n",
    "    .reset_index()\n",
    "    .groupby('fragment')\n",
    "    .mean()\n",
    ")\n",
    "df_ensemble = (\n",
    "    data[data.slide.isin(slides['ensemble']) & (data.model == 'ensemble')]\n",
    "    .groupby('fragment')\n",
    "    .mean()\n",
    ")\n",
    "\n",
    "df = pd.concat([df_single, df_ensemble], keys=['single', 'ensmble'])\n",
    "display(df)"
   ]
  },
  {
   "cell_type": "markdown",
   "metadata": {},
   "source": [
    "### Plots"
   ]
  },
  {
   "cell_type": "code",
   "execution_count": null,
   "metadata": {},
   "outputs": [],
   "source": [
    "df_single = (\n",
    "    data[data.slide.isin(slides['ensemble']) & (data.model != 'ensemble')]\n",
    "    .groupby(['slide', 'fragment'])\n",
    "    .mean()\n",
    "    .reset_index()\n",
    "    .assign(Model='Single')\n",
    ")\n",
    "df_ensemble = (\n",
    "    data[data.slide.isin(slides['ensemble']) & (data.model == 'ensemble')]\n",
    "    .assign(Model='Ensemble')\n",
    " )\n",
    "\n",
    "df = pd.concat([df_single, df_ensemble], ignore_index=True)\n",
    "\n",
    "fig, ax = plt.subplots(figsize=(8, 4))\n",
    "g = sns.boxplot(x='fragment', y='f1', hue='Model', data=df, showfliers=False, ax=ax)\n",
    "g.set_xlabel('Window size')\n",
    "g.set_xticklabels(['48 px', '96 px', '192 px'])\n",
    "g.set_ylabel('F1-score [%]')\n",
    "None"
   ]
  },
  {
   "cell_type": "code",
   "execution_count": null,
   "metadata": {},
   "outputs": [],
   "source": [
    "predictions = pd.concat([\n",
    "    pd.read_parquet(f'data/results/{slide}/predictions-f{size}-s16-m0-ensemble.gz.parquet').assign(fragment=size)[['labels', 'amy', 'ben', 'charlie', 'fragment']]\n",
    "    for slide in slides['ensemble']\n",
    "    for size in [48, 96, 192]\n",
    "], ignore_index=True).astype(np.float32)\n",
    "df = pd.melt(predictions, id_vars=('labels', 'fragment'), value_vars=('amy', 'ben', 'charlie'))\n",
    "\n",
    "fig, ax = plt.subplots(figsize=(4, 4))\n",
    "for size in [48, 96, 192]:\n",
    "    fpr, tpr, _ = roc_curve(\n",
    "        df[df.fragment == size].labels.ravel(),\n",
    "        df[df.fragment == size].value.ravel(),\n",
    "        pos_label=1,\n",
    "        drop_intermediate=False,\n",
    "    )\n",
    "    roc_auc = auc(fpr, tpr)\n",
    "    ax.plot(fpr, tpr, lw=2, label=f'{size}px window (AUC = {roc_auc:.2f})')\n",
    "\n",
    "ax.plot([0, 1], [0, 1], color='navy', lw=2, linestyle='--')\n",
    "ax.set_xlim([0.0, 1.0])\n",
    "ax.set_ylim([0.0, 1.05])\n",
    "ax.set_xlabel('False Positive Rate')\n",
    "ax.set_ylabel('True Positive Rate')\n",
    "ax.legend(loc=\"lower right\")\n",
    "None"
   ]
  }
 ],
 "metadata": {
  "interpreter": {
   "hash": "949777d72b0d2535278d3dc13498b2535136f6dfe0678499012e853ee9abcab1"
  },
  "kernelspec": {
   "display_name": "Python 3.7.12 64-bit",
   "language": "python",
   "name": "python3"
  },
  "language_info": {
   "codemirror_mode": {
    "name": "ipython",
    "version": 3
   },
   "file_extension": ".py",
   "mimetype": "text/x-python",
   "name": "python",
   "nbconvert_exporter": "python",
   "pygments_lexer": "ipython3",
   "version": "3.7.12"
  },
  "orig_nbformat": 4
 },
 "nbformat": 4,
 "nbformat_minor": 2
}
