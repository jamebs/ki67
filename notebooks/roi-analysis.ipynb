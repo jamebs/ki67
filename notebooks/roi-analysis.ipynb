{
 "cells": [
  {
   "cell_type": "code",
   "execution_count": null,
   "metadata": {},
   "outputs": [],
   "source": [
    "from glob import glob\n",
    "\n",
    "import numpy as np\n",
    "from skimage import io\n",
    "from tqdm import tqdm"
   ]
  },
  {
   "cell_type": "markdown",
   "metadata": {},
   "source": [
    "### Calculating pROIs dimensions"
   ]
  },
  {
   "cell_type": "code",
   "execution_count": null,
   "metadata": {},
   "outputs": [],
   "source": [
    "rois = glob('data/results/**/base.png')\n",
    "sizes = np.array([io.imread(f).shape for f in tqdm(rois)])\n",
    "mpix = (sizes[:, 0] * sizes[:, 1]) / 1e6"
   ]
  },
  {
   "cell_type": "code",
   "execution_count": null,
   "metadata": {},
   "outputs": [],
   "source": [
    "print(f'Min: {sizes[np.argmin(mpix), :]} ({np.min(mpix):.3f} Mpix)')\n",
    "print(f'Max: {sizes[np.argmax(mpix), :]} ({np.max(mpix):.3f} Mpix)')\n",
    "\n",
    "avg_size = np.mean(sizes, axis=0).round()\n",
    "avg_mpix = (avg_size[0] * avg_size[1]) / 1e6\n",
    "print(f'Average: {avg_size} ({avg_mpix:.3f} Mpix)')"
   ]
  }
 ],
 "metadata": {
  "interpreter": {
   "hash": "949777d72b0d2535278d3dc13498b2535136f6dfe0678499012e853ee9abcab1"
  },
  "kernelspec": {
   "display_name": "Python 3.7.12 64-bit",
   "language": "python",
   "name": "python3"
  },
  "language_info": {
   "codemirror_mode": {
    "name": "ipython",
    "version": 3
   },
   "file_extension": ".py",
   "mimetype": "text/x-python",
   "name": "python",
   "nbconvert_exporter": "python",
   "pygments_lexer": "ipython3",
   "version": "3.7.12"
  },
  "orig_nbformat": 4
 },
 "nbformat": 4,
 "nbformat_minor": 2
}
